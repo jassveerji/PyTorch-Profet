{
 "cells": [
  {
   "cell_type": "markdown",
   "metadata": {},
   "source": [
    "# Data\n",
    "> Functions used to create pytorch `DataSet`s and `DataLoader`s."
   ]
  },
  {
   "cell_type": "code",
   "execution_count": null,
   "metadata": {},
   "outputs": [],
   "source": [
    "# default_exp data"
   ]
  },
  {
   "cell_type": "code",
   "execution_count": null,
   "metadata": {},
   "outputs": [],
   "source": [
    "# export\n",
    "import torch\n",
    "from torch.utils.data import Dataset, DataLoader\n",
    "from fastai.data_block import DataBunch, DatasetType\n",
    "\n",
    "import warnings\n",
    "\n",
    "torch.Tensor.ndim = property(lambda x: x.dim())\n",
    "tt = torch.Tensor"
   ]
  },
  {
   "cell_type": "code",
   "execution_count": null,
   "metadata": {},
   "outputs": [],
   "source": [
    "# export\n",
    "_MILISECONDS_IN_DAY = 1e9*3600*24\n",
    "def convert_date(dates):\n",
    "    \"\"\"\n",
    "    Converts pandas date format to torch Tensors (floats)\n",
    "    \"\"\"\n",
    "    dates = dates.astype(int) / _MILISECONDS_IN_DAY\n",
    "    return torch.Tensor(dates).reshape(-1,1)\n",
    "\n",
    "def get_moments(df):\n",
    "    \"\"\"\n",
    "    Gets the mean and variance of all columns.\n",
    "    \"\"\"\n",
    "    df.ds = df.ds.astype(int) / _MILISECONDS_IN_DAY\n",
    "    mean = df.mean()\n",
    "    std = df.std()\n",
    "    moments = {\n",
    "        't': [mean['ds'], std['ds']],\n",
    "        't_range': [df.ds.min(), df.ds.max()],\n",
    "        'y': [mean['y'], std['y']]\n",
    "        }\n",
    "    mean.drop(['ds', 'y'], inplace=True)\n",
    "    std.drop(['ds', 'y'], inplace=True)\n",
    "    \n",
    "    for k, v in moments.items():\n",
    "        if v[1] == 0:\n",
    "            warnings.warn(f'Standard deviation of {k} is 0. Resetting to 1.')\n",
    "            moments[k][1] = 1.0\n",
    "            \n",
    "    if len(mean) > 0: # there are x variables\n",
    "        moments['x'] = [tt(mean.values[None,:]), \n",
    "                        tt(std.values[None,:])]\n",
    "        if (moments['x'][1] == 0).any():\n",
    "            idx = moments['x'][1] == 0\n",
    "            moments['x'][1][idx] = 1\n",
    "            warnings.warn('Standard deviation of some x feature is 0. Resetting to 1.')    \n",
    "        \n",
    "    return moments\n",
    "\n",
    "def create_tensors(df, moments, predict=False):\n",
    "    \"\"\"\n",
    "    converts a pandas dataframe to pytorch tensors\n",
    "    \"\"\"\n",
    "    # get time tensor\n",
    "    t = convert_date(df['ds'].values)\n",
    "    data = {'t': t}\n",
    "    df.drop(['ds'], axis=1, inplace=True)\n",
    "    \n",
    "    # get y tensor (if not in predict stage)\n",
    "    if not predict: # 'y' in df.columns and\n",
    "        y = torch.Tensor(df['y'].values).reshape(-1, 1)\n",
    "        df.drop(['y'], axis=1, inplace=True)\n",
    "        data['y'] = y\n",
    "        \n",
    "    if predict and 'y' in df.columns:\n",
    "        df.drop(['y'], axis=1, inplace=True)\n",
    "\n",
    "    # add x if it's available\n",
    "    if df.shape[1] > 0:\n",
    "        x = torch.Tensor(df.values).float()\n",
    "        data['x'] = x\n",
    "    \n",
    "    \n",
    "    data = {k: (v - moments[k][0]) / moments[k][1] for k, v in data.items()}\n",
    "    \n",
    "    return data, moments"
   ]
  },
  {
   "cell_type": "code",
   "execution_count": null,
   "metadata": {},
   "outputs": [],
   "source": [
    "# export\n",
    "class TimeSeries(Dataset):\n",
    "    \"\"\"\n",
    "    Load raw x,y data\n",
    "    \"\"\"\n",
    "    def __init__(self, x, y):\n",
    "        super().__init__()\n",
    "        self.x, self.y = x, y\n",
    "        \n",
    "    def __len__(self):\n",
    "        return len(self.y)\n",
    "    \n",
    "    def __getitem__(self, i):\n",
    "        return torch.Tensor([self.x[i]]), torch.Tensor([self.y[i]])\n",
    "    \n",
    "class DataFrame(Dataset):\n",
    "    \"\"\"\n",
    "    Take a data frame with columns ds | y | other_cols and convert to pytorch tensors.\n",
    "    \"\"\"\n",
    "    def __init__(self, df, moments=None):\n",
    "        super().__init__()\n",
    "        self.data, self.moments = create_tensors(df, moments)\n",
    "    \n",
    "    def __len__(self):\n",
    "        return len(self.data['t'])\n",
    "    \n",
    "    def __getitem__(self, i):\n",
    "        if 'x' in self.data:\n",
    "            return (self.data['t'][i], self.data['x'][i]), self.data['y'][i]\n",
    "        else:\n",
    "            return self.data['t'][i], self.data['y'][i]"
   ]
  },
  {
   "cell_type": "markdown",
   "metadata": {},
   "source": [
    "Functions to create Fastai `DataBunch`es."
   ]
  },
  {
   "cell_type": "code",
   "execution_count": null,
   "metadata": {},
   "outputs": [],
   "source": [
    "# export\n",
    "def create_db(df, train_p=0.8, bs=96, moments=None):\n",
    "    \"\"\"\n",
    "    Take dataframe and convert to Fastai databunch\n",
    "    \"\"\"\n",
    "    train_len = int(train_p*len(df))\n",
    "    df.reset_index(drop=True, inplace=True)\n",
    "    train_ds = DataFrame(df.iloc[:train_len], moments)\n",
    "    val_ds = DataFrame(df.iloc[train_len:], moments)\n",
    "    \n",
    "    bs = min(bs, len(train_ds))\n",
    "    val_bs = min(bs, len(val_ds))\n",
    "    return DataBunch.create(train_ds, val_ds, bs=bs, val_bs=val_bs)"
   ]
  },
  {
   "cell_type": "code",
   "execution_count": null,
   "metadata": {},
   "outputs": [
    {
     "name": "stdout",
     "output_type": "stream",
     "text": [
      "Converted 99_index.ipynb.\n",
      "Converted Fourier.ipynb.\n",
      "Converted blocks-Copy1.ipynb.\n",
      "Converted blocks.ipynb.\n",
      "Converted callbacks.ipynb.\n",
      "Converted data.ipynb.\n",
      "Converted losses.ipynb.\n",
      "Converted model.ipynb.\n"
     ]
    }
   ],
   "source": [
    "# hide\n",
    "from nbdev.export import *\n",
    "notebook2script()"
   ]
  },
  {
   "cell_type": "code",
   "execution_count": null,
   "metadata": {},
   "outputs": [],
   "source": []
  }
 ],
 "metadata": {
  "kernelspec": {
   "display_name": "Python 3",
   "language": "python",
   "name": "python3"
  }
 },
 "nbformat": 4,
 "nbformat_minor": 2
}
