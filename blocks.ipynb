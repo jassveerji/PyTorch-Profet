{
 "cells": [
  {
   "cell_type": "code",
   "execution_count": null,
   "metadata": {},
   "outputs": [],
   "source": [
    "# default_exp blocks.blocks"
   ]
  },
  {
   "cell_type": "code",
   "execution_count": null,
   "metadata": {},
   "outputs": [],
   "source": [
    "# export\n",
    "import numpy as np\n",
    "import matplotlib.pyplot as plt\n",
    "\n",
    "import torch\n",
    "import torch.nn as nn\n",
    "import torch.nn.functional as F\n",
    "\n",
    "from profetorch.data import convert_date\n",
    "from profetorch.blocks.fourier import Seasonal\n",
    "from profetorch.blocks.trend import Trend\n",
    "from profetorch.blocks.squasher import Squasher\n",
    "from profetorch.blocks.linearX import LinearX\n",
    "\n",
    "torch.Tensor.ndim = property(lambda x: x.dim())"
   ]
  },
  {
   "cell_type": "code",
   "execution_count": null,
   "metadata": {},
   "outputs": [],
   "source": [
    "# hide\n",
    "%load_ext autoreload\n",
    "%autoreload 2\n",
    "%matplotlib inline"
   ]
  },
  {
   "cell_type": "markdown",
   "metadata": {},
   "source": [
    "# Blocks\n",
    "> Blocks that compose the `Model`.\n",
    "\n",
    "For instance the median is composed of a Trend and Seasonality component (which in turn is composed of Fourier components)."
   ]
  },
  {
   "cell_type": "markdown",
   "metadata": {},
   "source": [
    "## Miscellaneous"
   ]
  },
  {
   "cell_type": "code",
   "execution_count": null,
   "metadata": {},
   "outputs": [],
   "source": [
    "class RandomWalk(nn.Module):\n",
    "    def __init__(self, n, breaks):\n",
    "        super().__init__()\n",
    "        self.w = nn.Parameter(torch.randn(n,1))\n",
    "        self.breaks = breaks\n",
    "        \n",
    "    def forward(self, x):\n",
    "        w = F.softplus(self.w.cumsum(0))\n",
    "        x_sec = get_section(x, self.breaks)\n",
    "        return w[x_sec]"
   ]
  },
  {
   "cell_type": "code",
   "execution_count": null,
   "metadata": {},
   "outputs": [],
   "source": [
    "# export\n",
    "class DefaultModel(nn.Module):\n",
    "    \"\"\"\n",
    "    Sum of Linear Trend, Seasonality and squashed.\n",
    "    \"\"\"\n",
    "    def __init__(self, moments, breakpoints=None, y_n=7, m_n=5, w_n=0, l=None, h=None):\n",
    "        super().__init__()\n",
    "        if 'x' in moments:\n",
    "            dims = moments['x'][0].shape[1]\n",
    "        else:\n",
    "            dims = 0\n",
    "\n",
    "        self.trend = Trend(breakpoints, moments)\n",
    "        self.seasonal = Seasonal(y_n, m_n, w_n, scale=moments['t'][1])\n",
    "        self.linear = LinearX(dims)\n",
    "        self.squash = Squasher(l, h, *moments['y'])\n",
    "\n",
    "    def forward(self, t, x=None):\n",
    "        prediction = self.seasonal(t) + self.trend(t) + self.linear(x)\n",
    "        prediction = self.squash(prediction)\n",
    "        return prediction\n",
    "    \n",
    "class DefaultQModel(nn.Module):\n",
    "    \"\"\"\n",
    "    Same as DefaultModel but with multiple outputs corresponding to quantiles\n",
    "    \"\"\"\n",
    "    def __init__(self, moments, breakpoints=None, y_n=7, m_n=5, w_n=0, l=None, h=None, quantiles=[0.05, 0.5, 0.95]):\n",
    "        super().__init__()\n",
    "        assert 0.5 in quantiles, f'0.5 needs to be in quantiles. Provided {quantiles} as quantiles.'\n",
    "        self.idx = quantiles.index(0.5)\n",
    "        signs = [q-0.5 for q in quantiles]\n",
    "        self.signs = torch.Tensor([-1 if s<0 else 1 for i,s in enumerate(signs) if i != self.idx])[None,:]\n",
    "        self.idxs = [i for i in range(len(quantiles)) if i != self.idx]\n",
    "        \n",
    "        median_args = {'y_n': y_n, 'm_n': m_n, 'w_n': w_n}\n",
    "        other_args = {'y_n': 0, 'm_n': 0, 'w_n': 0}\n",
    "        args = [median_args if q==0.5 else other_args for q in quantiles]\n",
    "        \n",
    "        self.models = nn.ModuleList([DefaultModel(moments, breakpoints, **arg) for arg in args])\n",
    "        self.squash = Squasher(l, h, *moments['y'])\n",
    "        \n",
    "    def forward(self, t, x=None):\n",
    "        prediction = torch.cat([m(t,x) for m in self.models], -1)\n",
    "        median = prediction[:, [self.idx]]\n",
    "        prediction[:, self.idxs] = median + F.softplus(prediction[:, self.idxs]) * self.signs\n",
    "            \n",
    "        return self.squash(prediction)"
   ]
  },
  {
   "cell_type": "code",
   "execution_count": null,
   "metadata": {},
   "outputs": [
    {
     "name": "stdout",
     "output_type": "stream",
     "text": [
      "Converted 99_index.ipynb.\n",
      "Converted Fourier.ipynb.\n",
      "Converted Holidays.ipynb.\n",
      "Converted LinearX.ipynb.\n",
      "Converted Squasher.ipynb.\n",
      "Converted Trend.ipynb.\n",
      "Converted blocks.ipynb.\n",
      "Converted callbacks.ipynb.\n",
      "Converted data.ipynb.\n",
      "Converted losses.ipynb.\n",
      "Converted model.ipynb.\n"
     ]
    }
   ],
   "source": [
    "# hide\n",
    "from nbdev.export import *\n",
    "notebook2script()"
   ]
  },
  {
   "cell_type": "code",
   "execution_count": null,
   "metadata": {},
   "outputs": [],
   "source": []
  }
 ],
 "metadata": {
  "kernelspec": {
   "display_name": "Python 3",
   "language": "python",
   "name": "python3"
  }
 },
 "nbformat": 4,
 "nbformat_minor": 2
}
