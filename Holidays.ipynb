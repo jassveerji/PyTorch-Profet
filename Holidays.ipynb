{
 "cells": [
  {
   "cell_type": "code",
   "execution_count": null,
   "metadata": {},
   "outputs": [],
   "source": [
    "# default_exp blocks.holidays"
   ]
  },
  {
   "cell_type": "code",
   "execution_count": null,
   "metadata": {},
   "outputs": [],
   "source": [
    "# export\n",
    "import numpy as np\n",
    "import matplotlib.pyplot as plt\n",
    "\n",
    "import torch\n",
    "import torch.nn as nn\n",
    "import torch.nn.functional as F\n",
    "\n",
    "torch.Tensor.ndim = property(lambda x: x.dim())"
   ]
  },
  {
   "cell_type": "markdown",
   "metadata": {},
   "source": [
    "# Holidays\n",
    "> Holidays functions"
   ]
  },
  {
   "cell_type": "code",
   "execution_count": null,
   "metadata": {},
   "outputs": [],
   "source": [
    "# export\n",
    "class Holiday(nn.Module):\n",
    "    def __init__(self, holiday, repeat_every=365, mean=0, scale=1):\n",
    "        super().__init__()\n",
    "        self.holiday = (holiday - mean) / scale\n",
    "        self.repeat_every = repeat_every / scale\n",
    "        self.w = nn.Parameter(torch.zeros(1)+0.05)\n",
    "        \n",
    "    def forward(self, t):\n",
    "        rem = torch.remainder(t - self.holiday, self.repeat_every)\n",
    "        return (rem == 0).float() * self.w\n",
    "\n",
    "\n",
    "class HolidayRange(nn.Module):\n",
    "    def __init__(self, holidays):\n",
    "        \"\"\"\n",
    "        holidays: list of lists containing lower and upper bound of hols\n",
    "        \"\"\"\n",
    "        super().__init__()\n",
    "        self.holidays = holidays\n",
    "        self.w = nn.Parameter(torch.zeros(1)+0.05)\n",
    "        \n",
    "    def forward(self, t):\n",
    "        bounded = [(l<=t) & (t<=u) for l,u in self.holidays]\n",
    "        return sum(bounded).float()*self.w"
   ]
  },
  {
   "cell_type": "code",
   "execution_count": null,
   "metadata": {},
   "outputs": [
    {
     "name": "stdout",
     "output_type": "stream",
     "text": [
      "Converted 99_index.ipynb.\n",
      "Converted Fourier.ipynb.\n",
      "Converted Holidays.ipynb.\n",
      "Converted LinearX.ipynb.\n",
      "Converted Squasher.ipynb.\n",
      "Converted Trend.ipynb.\n",
      "Converted blocks.ipynb.\n",
      "Converted callbacks.ipynb.\n",
      "Converted data.ipynb.\n",
      "Converted losses.ipynb.\n",
      "Converted model.ipynb.\n"
     ]
    }
   ],
   "source": [
    "# hide\n",
    "from nbdev.export import *\n",
    "notebook2script()"
   ]
  },
  {
   "cell_type": "code",
   "execution_count": null,
   "metadata": {},
   "outputs": [],
   "source": []
  }
 ],
 "metadata": {
  "kernelspec": {
   "display_name": "Python 3",
   "language": "python",
   "name": "python3"
  }
 },
 "nbformat": 4,
 "nbformat_minor": 2
}
