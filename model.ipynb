{
 "cells": [
  {
   "cell_type": "markdown",
   "metadata": {},
   "source": [
    "# Base Model\n",
    "> This class contains the base which is used to train data upon."
   ]
  },
  {
   "cell_type": "code",
   "execution_count": null,
   "metadata": {},
   "outputs": [],
   "source": [
    "# default_exp model"
   ]
  },
  {
   "cell_type": "code",
   "execution_count": null,
   "metadata": {},
   "outputs": [],
   "source": [
    "# export\n",
    "import numpy as np\n",
    "import matplotlib.pyplot as plt\n",
    "from functools import partial\n",
    "\n",
    "import torch\n",
    "import torch.nn as nn\n",
    "import torch.nn.functional as F\n",
    "\n",
    "from fastai.basics import Learner, LearnerCallback, Callback\n",
    "\n",
    "from profetorch.blocks.blocks import DefaultModel, DefaultQModel\n",
    "from profetorch.data import create_db, create_tensors, get_moments\n",
    "from profetorch.losses import q_loss\n",
    "from profetorch.callbacks.callbacks import *"
   ]
  },
  {
   "cell_type": "code",
   "execution_count": null,
   "metadata": {},
   "outputs": [],
   "source": [
    "# hide\n",
    "%load_ext autoreload\n",
    "%autoreload 2\n",
    "%matplotlib inline"
   ]
  },
  {
   "cell_type": "code",
   "execution_count": null,
   "metadata": {},
   "outputs": [],
   "source": [
    "# export\n",
    "class Model(nn.Module):\n",
    "    \"\"\"\n",
    "    Default Model Wrapper\n",
    "    parameters:\n",
    "    - df: dataset used in training dataset.\n",
    "    - model (optional): how to model time series. Default: DefaultModel.\n",
    "    - loss (optional): loss function: Default l1 loss.\n",
    "    - bs (optional): batchsize\n",
    "    - alpha (optional): l2 weight decay\n",
    "    - beta (optional): l1 weight decay\n",
    "    - silent: whether to silence output or not\n",
    "\n",
    "    Usage:\n",
    "    ```\n",
    "    model = Model(train_df)\n",
    "    model.fit(train_df)\n",
    "    y = model.predict(test_df)\n",
    "    ```\n",
    "    \"\"\"\n",
    "    def __init__(self, model_args=None, quantiles=[0.05, 0.5, 0.95], \n",
    "                 bs=128, epochs=100, lr=0.3, alpha=0.1, silent=True):\n",
    "        super().__init__()\n",
    "        self.loss = partial(q_loss, quantiles=quantiles)\n",
    "        self.model_args = model_args\n",
    "        self.quantiles = quantiles\n",
    "        self.lr = lr\n",
    "        self.alpha = alpha\n",
    "\n",
    "        self.bs = bs\n",
    "        self.epochs = epochs\n",
    "        self.silent = silent\n",
    "        \n",
    "    def fit(self, df):\n",
    "        self.moments = get_moments(df.copy())\n",
    "        self.model = DefaultQModel(self.moments, \n",
    "                                   **self.model_args, \n",
    "                                   quantiles=self.quantiles)\n",
    "        # self.find_appropriate_lr(df)\n",
    "        learner = self.create_learner(df)\n",
    "        cb = [PrintLoss(learner)]\n",
    "        # breakpoint()\n",
    "        \n",
    "        learner.fit_one_cycle(self.epochs, self.lr, callbacks=cb)\n",
    "        \n",
    "    def predict(self, df):\n",
    "        x, _ = create_tensors(df.copy(), self.moments, predict=True)\n",
    "        mean, sd = self.moments['y']\n",
    "        y = sd * self.model(**x) + mean\n",
    "        return y.detach().cpu().numpy()\n",
    "    \n",
    "    def forward(self, *args):\n",
    "        return self.model(*args)\n",
    "    \n",
    "    def create_learner(self, df):\n",
    "        db = create_db(df, bs=self.bs, moments=self.moments)\n",
    "        learner = Learner(db, \n",
    "                          self.model, \n",
    "                          loss_func=self.loss, \n",
    "                          wd=self.alpha, \n",
    "                          silent=True)\n",
    "        return learner\n",
    "    \n",
    "    def plot_components(self):\n",
    "        idx = self.quantiles.index(0.5)\n",
    "        median = self.model.models[idx]\n",
    "        median.seasonal.plot_components()"
   ]
  },
  {
   "cell_type": "code",
   "execution_count": null,
   "metadata": {},
   "outputs": [
    {
     "name": "stdout",
     "output_type": "stream",
     "text": [
      "Converted 99_index.ipynb.\n",
      "Converted Fourier.ipynb.\n",
      "Converted Holidays.ipynb.\n",
      "Converted LinearX.ipynb.\n",
      "Converted Squasher.ipynb.\n",
      "Converted Trend.ipynb.\n",
      "Converted blocks.ipynb.\n",
      "Converted callbacks.ipynb.\n",
      "Converted data.ipynb.\n",
      "Converted losses.ipynb.\n",
      "Converted model.ipynb.\n"
     ]
    }
   ],
   "source": [
    "# hide\n",
    "from nbdev.export import *\n",
    "notebook2script()"
   ]
  },
  {
   "cell_type": "code",
   "execution_count": null,
   "metadata": {},
   "outputs": [],
   "source": []
  }
 ],
 "metadata": {
  "kernelspec": {
   "display_name": "Python 3",
   "language": "python",
   "name": "python3"
  }
 },
 "nbformat": 4,
 "nbformat_minor": 2
}
