{
 "cells": [
  {
   "cell_type": "code",
   "execution_count": null,
   "metadata": {},
   "outputs": [],
   "source": [
    "# default_exp blocks.linearX"
   ]
  },
  {
   "cell_type": "code",
   "execution_count": null,
   "metadata": {},
   "outputs": [],
   "source": [
    "# export\n",
    "import numpy as np\n",
    "import matplotlib.pyplot as plt\n",
    "\n",
    "import torch\n",
    "import torch.nn as nn\n",
    "import torch.nn.functional as F\n",
    "\n",
    "torch.Tensor.ndim = property(lambda x: x.dim())"
   ]
  },
  {
   "cell_type": "markdown",
   "metadata": {},
   "source": [
    "# LinearX\n",
    "> Linear model of non-time based inputs."
   ]
  },
  {
   "cell_type": "code",
   "execution_count": null,
   "metadata": {},
   "outputs": [],
   "source": [
    "# export\n",
    "class LinearX(nn.Module):\n",
    "    \"\"\"\n",
    "    Linear model of non-time based inputs.\n",
    "    \"\"\"\n",
    "    def __init__(self, dims):\n",
    "        super().__init__()\n",
    "        if dims > 0:\n",
    "            self.linear = nn.Linear(dims, 1, bias=False)\n",
    "        \n",
    "    def forward(self, x):\n",
    "        if x is not None:\n",
    "            return self.linear(x)\n",
    "        else:\n",
    "            return 0"
   ]
  },
  {
   "cell_type": "code",
   "execution_count": null,
   "metadata": {},
   "outputs": [
    {
     "name": "stdout",
     "output_type": "stream",
     "text": [
      "Converted 99_index.ipynb.\n",
      "Converted Fourier.ipynb.\n",
      "Converted LinearX.ipynb.\n",
      "Converted Squasher.ipynb.\n",
      "Converted Trend.ipynb.\n",
      "Converted blocks.ipynb.\n",
      "Converted callbacks.ipynb.\n",
      "Converted data.ipynb.\n",
      "Converted losses.ipynb.\n",
      "Converted model.ipynb.\n"
     ]
    }
   ],
   "source": [
    "# hide\n",
    "from nbdev.export import *\n",
    "notebook2script()"
   ]
  },
  {
   "cell_type": "code",
   "execution_count": null,
   "metadata": {},
   "outputs": [],
   "source": []
  }
 ],
 "metadata": {
  "kernelspec": {
   "display_name": "Python 3",
   "language": "python",
   "name": "python3"
  }
 },
 "nbformat": 4,
 "nbformat_minor": 2
}
